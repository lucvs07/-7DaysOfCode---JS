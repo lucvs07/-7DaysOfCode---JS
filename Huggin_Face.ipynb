{
  "nbformat": 4,
  "nbformat_minor": 0,
  "metadata": {
    "colab": {
      "provenance": [],
      "authorship_tag": "ABX9TyOfdJ4FFptAVl3F8+tEkxFB",
      "include_colab_link": true
    },
    "kernelspec": {
      "name": "python3",
      "display_name": "Python 3"
    },
    "language_info": {
      "name": "python"
    }
  },
  "cells": [
    {
      "cell_type": "markdown",
      "metadata": {
        "id": "view-in-github",
        "colab_type": "text"
      },
      "source": [
        "<a href=\"https://colab.research.google.com/github/lucvs07/-7DaysOfCode---JS/blob/main/Huggin_Face.ipynb\" target=\"_parent\"><img src=\"https://colab.research.google.com/assets/colab-badge.svg\" alt=\"Open In Colab\"/></a>"
      ]
    },
    {
      "cell_type": "code",
      "execution_count": 1,
      "metadata": {
        "id": "V5-iKCFQn4zs"
      },
      "outputs": [],
      "source": [
        "from transformers import pipeline # Import the transformes to use the models from Hugging Face"
      ]
    },
    {
      "cell_type": "code",
      "source": [
        "classifier_emotion = pipeline('sentiment-analysis', model='distilbert-base-uncased-finetuned-sst-2-english') # Implement the model to classify text"
      ],
      "metadata": {
        "id": "39B4GnPcqzI7"
      },
      "execution_count": null,
      "outputs": []
    },
    {
      "cell_type": "code",
      "source": [
        "classifier_emotion('I love this product')"
      ],
      "metadata": {
        "colab": {
          "base_uri": "https://localhost:8080/"
        },
        "id": "-HHWFU0gr-hk",
        "outputId": "1a164f0c-1f00-4b7b-8516-34139e61e8a2"
      },
      "execution_count": 6,
      "outputs": [
        {
          "output_type": "execute_result",
          "data": {
            "text/plain": [
              "[{'label': 'POSITIVE', 'score': 0.9998788833618164}]"
            ]
          },
          "metadata": {},
          "execution_count": 6
        }
      ]
    },
    {
      "cell_type": "code",
      "source": [
        "classifier_emotion('I am totally disappointed with this product')"
      ],
      "metadata": {
        "colab": {
          "base_uri": "https://localhost:8080/"
        },
        "id": "ev1mQngntD0V",
        "outputId": "9431aaad-2115-474f-fe78-2ee8c31393d9"
      },
      "execution_count": 8,
      "outputs": [
        {
          "output_type": "execute_result",
          "data": {
            "text/plain": [
              "[{'label': 'NEGATIVE', 'score': 0.9998010993003845}]"
            ]
          },
          "metadata": {},
          "execution_count": 8
        }
      ]
    },
    {
      "cell_type": "code",
      "source": [
        "pip install pysentimiento"
      ],
      "metadata": {
        "collapsed": true,
        "id": "ZSD3Q-BTuPmx"
      },
      "execution_count": null,
      "outputs": []
    },
    {
      "cell_type": "code",
      "source": [
        "from pysentimiento import create_analyzer"
      ],
      "metadata": {
        "id": "grFa14dquRlJ"
      },
      "execution_count": 10,
      "outputs": []
    },
    {
      "cell_type": "code",
      "source": [
        "modelo_analise_sentimento = create_analyzer(task='sentiment', lang='pt')"
      ],
      "metadata": {
        "id": "Op5RaZlDvT6n"
      },
      "execution_count": null,
      "outputs": []
    },
    {
      "cell_type": "code",
      "source": [
        "#Testar classificação\n",
        "modelo_analise_sentimento.predict('A fritadeira é sensacional, muito além do que imaginava. É linda, super funcional e muito fácil de manusear. Fácil de limpar e potente. Super recomendo.')"
      ],
      "metadata": {
        "colab": {
          "base_uri": "https://localhost:8080/"
        },
        "id": "tqtBptTfwCaF",
        "outputId": "f0ecd7de-0ff4-4fb6-d9c3-0608896d9036"
      },
      "execution_count": 18,
      "outputs": [
        {
          "output_type": "execute_result",
          "data": {
            "text/plain": [
              "AnalyzerOutput(output=POS, probas={POS: 0.989, NEU: 0.009, NEG: 0.002})"
            ]
          },
          "metadata": {},
          "execution_count": 18
        }
      ]
    },
    {
      "cell_type": "code",
      "source": [
        "modelo_analise_sentimento.predict('''\n",
        "Após poucos meses de uso a carcaça de aço escovado começou a oxidar,\n",
        "demonstrando a baixa qualidade de proteção. Fora esse detalhe, o produto cumpre o prometido.\n",
        "''')"
      ],
      "metadata": {
        "colab": {
          "base_uri": "https://localhost:8080/"
        },
        "id": "oO43VpzMxWOO",
        "outputId": "81459954-06f7-48e6-bfa4-3aff796c35af"
      },
      "execution_count": 19,
      "outputs": [
        {
          "output_type": "execute_result",
          "data": {
            "text/plain": [
              "AnalyzerOutput(output=NEU, probas={NEU: 0.921, NEG: 0.065, POS: 0.014})"
            ]
          },
          "metadata": {},
          "execution_count": 19
        }
      ]
    },
    {
      "cell_type": "code",
      "source": [
        "modelo_analise_sentimento.predict('''\n",
        "Em menos de 1 ano parou de funcionar, enviei para assistência técnica por estar na garantia, trocaram o motor, passou a ficar menos potente e não durou 2 utilizações.\n",
        "Isso se repetiu várias vezes, até que desisti de ficar levando lá e queimando de novo em seguida, vi outros clientes com o mesmo problema. Não comprem!!\n",
        "''')"
      ],
      "metadata": {
        "colab": {
          "base_uri": "https://localhost:8080/"
        },
        "id": "wlR-gxUaxfro",
        "outputId": "972c3776-203f-4aad-dba4-574d1e1b74f5"
      },
      "execution_count": 20,
      "outputs": [
        {
          "output_type": "execute_result",
          "data": {
            "text/plain": [
              "AnalyzerOutput(output=NEG, probas={NEG: 0.943, NEU: 0.042, POS: 0.015})"
            ]
          },
          "metadata": {},
          "execution_count": 20
        }
      ]
    }
  ]
}